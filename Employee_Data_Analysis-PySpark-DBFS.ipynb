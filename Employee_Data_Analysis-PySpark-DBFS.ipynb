{
 "cells": [
  {
   "cell_type": "markdown",
   "metadata": {
    "application/vnd.databricks.v1+cell": {
     "cellMetadata": {
      "byteLimit": 2048000,
      "rowLimit": 10000
     },
     "inputWidgets": {},
     "nuid": "96816ed7-b08a-4ca3-abb9-f99880c3535d",
     "showTitle": false,
     "title": ""
    }
   },
   "source": [
    "##EMPOYEES DATA ANALYSIS USING PYSPARK"
   ]
  },
  {
   "cell_type": "markdown",
   "metadata": {
    "application/vnd.databricks.v1+cell": {
     "cellMetadata": {
      "byteLimit": 2048000,
      "rowLimit": 10000
     },
     "inputWidgets": {},
     "nuid": "53a515d7-2955-4d8d-b2d3-00cfc532a642",
     "showTitle": false,
     "title": ""
    }
   },
   "source": [
    "######Read File and Define Schema"
   ]
  },
  {
   "cell_type": "code",
   "execution_count": 0,
   "metadata": {
    "application/vnd.databricks.v1+cell": {
     "cellMetadata": {
      "byteLimit": 2048000,
      "rowLimit": 10000
     },
     "inputWidgets": {},
     "nuid": "6482be4c-f067-47c9-b0ac-35c938b94601",
     "showTitle": false,
     "title": ""
    }
   },
   "outputs": [
    {
     "output_type": "display_data",
     "data": {
      "text/html": [
       "<style scoped>\n",
       "  .table-result-container {\n",
       "    max-height: 300px;\n",
       "    overflow: auto;\n",
       "  }\n",
       "  table, th, td {\n",
       "    border: 1px solid black;\n",
       "    border-collapse: collapse;\n",
       "  }\n",
       "  th, td {\n",
       "    padding: 5px;\n",
       "  }\n",
       "  th {\n",
       "    text-align: left;\n",
       "  }\n",
       "</style><div class='table-result-container'><table class='table-result'><thead style='background-color: white'><tr><th>Emp_No</th><th>Emp_Name</th><th>Salary</th><th>Age</th><th>Department</th></tr></thead><tbody><tr><td>198</td><td>Donald</td><td>2600</td><td>29</td><td>IT</td></tr><tr><td>199</td><td>Douglas</td><td>2600</td><td>34</td><td>Sales</td></tr><tr><td>200</td><td>Jennifer</td><td>4400</td><td>36</td><td>Marketing</td></tr><tr><td>201</td><td>Michael</td><td>13000</td><td>32</td><td>IT</td></tr><tr><td>202</td><td>Pat</td><td>6000</td><td>39</td><td>HR</td></tr><tr><td>203</td><td>Susan</td><td>6500</td><td>36</td><td>Marketing</td></tr><tr><td>204</td><td>Hermann</td><td>10000</td><td>29</td><td>Finance</td></tr><tr><td>205</td><td>Shelley</td><td>12008</td><td>33</td><td>Finance</td></tr><tr><td>206</td><td>William</td><td>8300</td><td>37</td><td>IT</td></tr><tr><td>100</td><td>Steven</td><td>24000</td><td>39</td><td>IT</td></tr><tr><td>101</td><td>Neena</td><td>17000</td><td>27</td><td>Sales</td></tr><tr><td>102</td><td>Lex</td><td>17000</td><td>37</td><td>Marketing</td></tr><tr><td>103</td><td>Alexander</td><td>9000</td><td>39</td><td>Marketing</td></tr><tr><td>104</td><td>Bruce</td><td>6000</td><td>38</td><td>IT</td></tr><tr><td>105</td><td>David</td><td>4800</td><td>39</td><td>IT</td></tr><tr><td>106</td><td>Valli</td><td>4800</td><td>38</td><td>Sales</td></tr><tr><td>107</td><td>Diana</td><td>4200</td><td>35</td><td>Sales</td></tr><tr><td>108</td><td>Nancy</td><td>12008</td><td>28</td><td>Sales</td></tr><tr><td>109</td><td>Daniel</td><td>9000</td><td>35</td><td>HR</td></tr><tr><td>110</td><td>John</td><td>8200</td><td>31</td><td>Marketing</td></tr><tr><td>111</td><td>Ismael</td><td>7700</td><td>32</td><td>IT</td></tr><tr><td>112</td><td>Jose Manuel</td><td>7800</td><td>34</td><td>HR</td></tr><tr><td>113</td><td>Luis</td><td>6900</td><td>34</td><td>Sales</td></tr><tr><td>114</td><td>Den</td><td>11000</td><td>27</td><td>Finance</td></tr><tr><td>115</td><td>Alexander</td><td>3100</td><td>29</td><td>Finance</td></tr><tr><td>116</td><td>Shelli</td><td>2900</td><td>37</td><td>Finance</td></tr><tr><td>117</td><td>Sigal</td><td>2800</td><td>33</td><td>Sales</td></tr><tr><td>118</td><td>Guy</td><td>2600</td><td>36</td><td>HR</td></tr><tr><td>119</td><td>Karen</td><td>2500</td><td>32</td><td>Finance</td></tr><tr><td>120</td><td>Matthew</td><td>8000</td><td>30</td><td>HR</td></tr><tr><td>121</td><td>Adam</td><td>8200</td><td>39</td><td>HR</td></tr><tr><td>122</td><td>Payam</td><td>7900</td><td>36</td><td>Finance</td></tr><tr><td>123</td><td>Shanta</td><td>6500</td><td>35</td><td>Sales</td></tr><tr><td>124</td><td>Kevin</td><td>5800</td><td>33</td><td>Marketing</td></tr><tr><td>125</td><td>Julia</td><td>3200</td><td>35</td><td>Finance</td></tr><tr><td>126</td><td>Irene</td><td>2700</td><td>28</td><td>HR</td></tr><tr><td>127</td><td>James</td><td>2400</td><td>31</td><td>HR</td></tr><tr><td>128</td><td>Steven</td><td>2200</td><td>33</td><td>Finance</td></tr><tr><td>129</td><td>Laura</td><td>3300</td><td>38</td><td>IT</td></tr><tr><td>130</td><td>Mozhe</td><td>2800</td><td>28</td><td>Marketing</td></tr><tr><td>131</td><td>James</td><td>2500</td><td>36</td><td>Sales</td></tr><tr><td>132</td><td>TJ</td><td>2100</td><td>34</td><td>IT</td></tr><tr><td>133</td><td>Jason</td><td>3300</td><td>38</td><td>Sales</td></tr><tr><td>134</td><td>Michael</td><td>2900</td><td>29</td><td>Sales</td></tr><tr><td>135</td><td>Ki</td><td>2400</td><td>35</td><td>Marketing</td></tr><tr><td>136</td><td>Hazel</td><td>2200</td><td>29</td><td>IT</td></tr><tr><td>137</td><td>Renske</td><td>3600</td><td>26</td><td>Marketing</td></tr><tr><td>138</td><td>Stephen</td><td>3200</td><td>35</td><td>Sales</td></tr><tr><td>139</td><td>John</td><td>2700</td><td>36</td><td>Sales</td></tr><tr><td>140</td><td>Joshua</td><td>2500</td><td>29</td><td>Finance</td></tr></tbody></table></div>"
      ]
     },
     "metadata": {
      "application/vnd.databricks.v1+output": {
       "addedWidgets": {},
       "aggData": [],
       "aggError": "",
       "aggOverflow": false,
       "aggSchema": [],
       "aggSeriesLimitReached": false,
       "aggType": "",
       "arguments": {},
       "columnCustomDisplayInfos": {},
       "data": [
        [
         198,
         "Donald",
         2600,
         29,
         "IT"
        ],
        [
         199,
         "Douglas",
         2600,
         34,
         "Sales"
        ],
        [
         200,
         "Jennifer",
         4400,
         36,
         "Marketing"
        ],
        [
         201,
         "Michael",
         13000,
         32,
         "IT"
        ],
        [
         202,
         "Pat",
         6000,
         39,
         "HR"
        ],
        [
         203,
         "Susan",
         6500,
         36,
         "Marketing"
        ],
        [
         204,
         "Hermann",
         10000,
         29,
         "Finance"
        ],
        [
         205,
         "Shelley",
         12008,
         33,
         "Finance"
        ],
        [
         206,
         "William",
         8300,
         37,
         "IT"
        ],
        [
         100,
         "Steven",
         24000,
         39,
         "IT"
        ],
        [
         101,
         "Neena",
         17000,
         27,
         "Sales"
        ],
        [
         102,
         "Lex",
         17000,
         37,
         "Marketing"
        ],
        [
         103,
         "Alexander",
         9000,
         39,
         "Marketing"
        ],
        [
         104,
         "Bruce",
         6000,
         38,
         "IT"
        ],
        [
         105,
         "David",
         4800,
         39,
         "IT"
        ],
        [
         106,
         "Valli",
         4800,
         38,
         "Sales"
        ],
        [
         107,
         "Diana",
         4200,
         35,
         "Sales"
        ],
        [
         108,
         "Nancy",
         12008,
         28,
         "Sales"
        ],
        [
         109,
         "Daniel",
         9000,
         35,
         "HR"
        ],
        [
         110,
         "John",
         8200,
         31,
         "Marketing"
        ],
        [
         111,
         "Ismael",
         7700,
         32,
         "IT"
        ],
        [
         112,
         "Jose Manuel",
         7800,
         34,
         "HR"
        ],
        [
         113,
         "Luis",
         6900,
         34,
         "Sales"
        ],
        [
         114,
         "Den",
         11000,
         27,
         "Finance"
        ],
        [
         115,
         "Alexander",
         3100,
         29,
         "Finance"
        ],
        [
         116,
         "Shelli",
         2900,
         37,
         "Finance"
        ],
        [
         117,
         "Sigal",
         2800,
         33,
         "Sales"
        ],
        [
         118,
         "Guy",
         2600,
         36,
         "HR"
        ],
        [
         119,
         "Karen",
         2500,
         32,
         "Finance"
        ],
        [
         120,
         "Matthew",
         8000,
         30,
         "HR"
        ],
        [
         121,
         "Adam",
         8200,
         39,
         "HR"
        ],
        [
         122,
         "Payam",
         7900,
         36,
         "Finance"
        ],
        [
         123,
         "Shanta",
         6500,
         35,
         "Sales"
        ],
        [
         124,
         "Kevin",
         5800,
         33,
         "Marketing"
        ],
        [
         125,
         "Julia",
         3200,
         35,
         "Finance"
        ],
        [
         126,
         "Irene",
         2700,
         28,
         "HR"
        ],
        [
         127,
         "James",
         2400,
         31,
         "HR"
        ],
        [
         128,
         "Steven",
         2200,
         33,
         "Finance"
        ],
        [
         129,
         "Laura",
         3300,
         38,
         "IT"
        ],
        [
         130,
         "Mozhe",
         2800,
         28,
         "Marketing"
        ],
        [
         131,
         "James",
         2500,
         36,
         "Sales"
        ],
        [
         132,
         "TJ",
         2100,
         34,
         "IT"
        ],
        [
         133,
         "Jason",
         3300,
         38,
         "Sales"
        ],
        [
         134,
         "Michael",
         2900,
         29,
         "Sales"
        ],
        [
         135,
         "Ki",
         2400,
         35,
         "Marketing"
        ],
        [
         136,
         "Hazel",
         2200,
         29,
         "IT"
        ],
        [
         137,
         "Renske",
         3600,
         26,
         "Marketing"
        ],
        [
         138,
         "Stephen",
         3200,
         35,
         "Sales"
        ],
        [
         139,
         "John",
         2700,
         36,
         "Sales"
        ],
        [
         140,
         "Joshua",
         2500,
         29,
         "Finance"
        ]
       ],
       "datasetInfos": [],
       "dbfsResultPath": null,
       "isJsonSchema": true,
       "metadata": {},
       "overflow": false,
       "plotOptions": {
        "customPlotOptions": {},
        "displayType": "table",
        "pivotAggregation": null,
        "pivotColumns": null,
        "xColumns": null,
        "yColumns": null
       },
       "removedWidgets": [],
       "schema": [
        {
         "metadata": "{}",
         "name": "Emp_No",
         "type": "\"integer\""
        },
        {
         "metadata": "{}",
         "name": "Emp_Name",
         "type": "\"string\""
        },
        {
         "metadata": "{}",
         "name": "Salary",
         "type": "\"integer\""
        },
        {
         "metadata": "{}",
         "name": "Age",
         "type": "\"integer\""
        },
        {
         "metadata": "{}",
         "name": "Department",
         "type": "\"string\""
        }
       ],
       "type": "table"
      }
     },
     "output_type": "display_data"
    }
   ],
   "source": [
    "# File location and type\n",
    "file_location = \"/FileStore/tables/employees_data.csv\"\n",
    "file_type = \"csv\"\n",
    "\n",
    "# CSV options\n",
    "infer_schema = \"true\"\n",
    "first_row_is_header = \"true\"\n",
    "delimiter = \",\"\n",
    "\n",
    "# The applied options are for CSV files. For other file types, these will be ignored.\n",
    "df = spark.read.format(file_type) \\\n",
    "  .option(\"inferSchema\", infer_schema) \\\n",
    "  .option(\"header\", first_row_is_header) \\\n",
    "  .option(\"sep\", delimiter) \\\n",
    "  .load(file_location)\n",
    "\n",
    "display(df)"
   ]
  },
  {
   "cell_type": "markdown",
   "metadata": {
    "application/vnd.databricks.v1+cell": {
     "cellMetadata": {
      "byteLimit": 2048000,
      "rowLimit": 10000
     },
     "inputWidgets": {},
     "nuid": "1f5b63af-cd6f-4de0-907f-a081f643c5cb",
     "showTitle": false,
     "title": ""
    }
   },
   "source": [
    "######Save it in Temporary Table"
   ]
  },
  {
   "cell_type": "code",
   "execution_count": 0,
   "metadata": {
    "application/vnd.databricks.v1+cell": {
     "cellMetadata": {
      "byteLimit": 2048000,
      "rowLimit": 10000
     },
     "inputWidgets": {},
     "nuid": "bd82bb99-1479-4d5c-be10-8c36df0f1d44",
     "showTitle": false,
     "title": ""
    }
   },
   "outputs": [],
   "source": [
    "# Create a view or table\n",
    "\n",
    "temp_table_name = \"employees_data_analysis\"\n",
    "\n",
    "df.createOrReplaceTempView(temp_table_name)"
   ]
  },
  {
   "cell_type": "code",
   "execution_count": 0,
   "metadata": {
    "application/vnd.databricks.v1+cell": {
     "cellMetadata": {
      "byteLimit": 2048000,
      "implicitDf": true,
      "rowLimit": 10000
     },
     "inputWidgets": {},
     "nuid": "b5f66379-6f7f-42ec-8e82-d0e0926a1721",
     "showTitle": false,
     "title": ""
    }
   },
   "outputs": [
    {
     "output_type": "display_data",
     "data": {
      "text/html": [
       "<style scoped>\n",
       "  .table-result-container {\n",
       "    max-height: 300px;\n",
       "    overflow: auto;\n",
       "  }\n",
       "  table, th, td {\n",
       "    border: 1px solid black;\n",
       "    border-collapse: collapse;\n",
       "  }\n",
       "  th, td {\n",
       "    padding: 5px;\n",
       "  }\n",
       "  th {\n",
       "    text-align: left;\n",
       "  }\n",
       "</style><div class='table-result-container'><table class='table-result'><thead style='background-color: white'><tr><th>Emp_No</th><th>Emp_Name</th><th>Salary</th><th>Age</th><th>Department</th></tr></thead><tbody><tr><td>198</td><td>Donald</td><td>2600</td><td>29</td><td>IT</td></tr><tr><td>199</td><td>Douglas</td><td>2600</td><td>34</td><td>Sales</td></tr><tr><td>200</td><td>Jennifer</td><td>4400</td><td>36</td><td>Marketing</td></tr><tr><td>201</td><td>Michael</td><td>13000</td><td>32</td><td>IT</td></tr><tr><td>202</td><td>Pat</td><td>6000</td><td>39</td><td>HR</td></tr><tr><td>203</td><td>Susan</td><td>6500</td><td>36</td><td>Marketing</td></tr><tr><td>204</td><td>Hermann</td><td>10000</td><td>29</td><td>Finance</td></tr><tr><td>205</td><td>Shelley</td><td>12008</td><td>33</td><td>Finance</td></tr><tr><td>206</td><td>William</td><td>8300</td><td>37</td><td>IT</td></tr><tr><td>100</td><td>Steven</td><td>24000</td><td>39</td><td>IT</td></tr><tr><td>101</td><td>Neena</td><td>17000</td><td>27</td><td>Sales</td></tr><tr><td>102</td><td>Lex</td><td>17000</td><td>37</td><td>Marketing</td></tr><tr><td>103</td><td>Alexander</td><td>9000</td><td>39</td><td>Marketing</td></tr><tr><td>104</td><td>Bruce</td><td>6000</td><td>38</td><td>IT</td></tr><tr><td>105</td><td>David</td><td>4800</td><td>39</td><td>IT</td></tr><tr><td>106</td><td>Valli</td><td>4800</td><td>38</td><td>Sales</td></tr><tr><td>107</td><td>Diana</td><td>4200</td><td>35</td><td>Sales</td></tr><tr><td>108</td><td>Nancy</td><td>12008</td><td>28</td><td>Sales</td></tr><tr><td>109</td><td>Daniel</td><td>9000</td><td>35</td><td>HR</td></tr><tr><td>110</td><td>John</td><td>8200</td><td>31</td><td>Marketing</td></tr><tr><td>111</td><td>Ismael</td><td>7700</td><td>32</td><td>IT</td></tr><tr><td>112</td><td>Jose Manuel</td><td>7800</td><td>34</td><td>HR</td></tr><tr><td>113</td><td>Luis</td><td>6900</td><td>34</td><td>Sales</td></tr><tr><td>114</td><td>Den</td><td>11000</td><td>27</td><td>Finance</td></tr><tr><td>115</td><td>Alexander</td><td>3100</td><td>29</td><td>Finance</td></tr><tr><td>116</td><td>Shelli</td><td>2900</td><td>37</td><td>Finance</td></tr><tr><td>117</td><td>Sigal</td><td>2800</td><td>33</td><td>Sales</td></tr><tr><td>118</td><td>Guy</td><td>2600</td><td>36</td><td>HR</td></tr><tr><td>119</td><td>Karen</td><td>2500</td><td>32</td><td>Finance</td></tr><tr><td>120</td><td>Matthew</td><td>8000</td><td>30</td><td>HR</td></tr><tr><td>121</td><td>Adam</td><td>8200</td><td>39</td><td>HR</td></tr><tr><td>122</td><td>Payam</td><td>7900</td><td>36</td><td>Finance</td></tr><tr><td>123</td><td>Shanta</td><td>6500</td><td>35</td><td>Sales</td></tr><tr><td>124</td><td>Kevin</td><td>5800</td><td>33</td><td>Marketing</td></tr><tr><td>125</td><td>Julia</td><td>3200</td><td>35</td><td>Finance</td></tr><tr><td>126</td><td>Irene</td><td>2700</td><td>28</td><td>HR</td></tr><tr><td>127</td><td>James</td><td>2400</td><td>31</td><td>HR</td></tr><tr><td>128</td><td>Steven</td><td>2200</td><td>33</td><td>Finance</td></tr><tr><td>129</td><td>Laura</td><td>3300</td><td>38</td><td>IT</td></tr><tr><td>130</td><td>Mozhe</td><td>2800</td><td>28</td><td>Marketing</td></tr><tr><td>131</td><td>James</td><td>2500</td><td>36</td><td>Sales</td></tr><tr><td>132</td><td>TJ</td><td>2100</td><td>34</td><td>IT</td></tr><tr><td>133</td><td>Jason</td><td>3300</td><td>38</td><td>Sales</td></tr><tr><td>134</td><td>Michael</td><td>2900</td><td>29</td><td>Sales</td></tr><tr><td>135</td><td>Ki</td><td>2400</td><td>35</td><td>Marketing</td></tr><tr><td>136</td><td>Hazel</td><td>2200</td><td>29</td><td>IT</td></tr><tr><td>137</td><td>Renske</td><td>3600</td><td>26</td><td>Marketing</td></tr><tr><td>138</td><td>Stephen</td><td>3200</td><td>35</td><td>Sales</td></tr><tr><td>139</td><td>John</td><td>2700</td><td>36</td><td>Sales</td></tr><tr><td>140</td><td>Joshua</td><td>2500</td><td>29</td><td>Finance</td></tr></tbody></table></div>"
      ]
     },
     "metadata": {
      "application/vnd.databricks.v1+output": {
       "addedWidgets": {},
       "aggData": [],
       "aggError": "",
       "aggOverflow": false,
       "aggSchema": [],
       "aggSeriesLimitReached": false,
       "aggType": "",
       "arguments": {},
       "columnCustomDisplayInfos": {},
       "data": [
        [
         198,
         "Donald",
         2600,
         29,
         "IT"
        ],
        [
         199,
         "Douglas",
         2600,
         34,
         "Sales"
        ],
        [
         200,
         "Jennifer",
         4400,
         36,
         "Marketing"
        ],
        [
         201,
         "Michael",
         13000,
         32,
         "IT"
        ],
        [
         202,
         "Pat",
         6000,
         39,
         "HR"
        ],
        [
         203,
         "Susan",
         6500,
         36,
         "Marketing"
        ],
        [
         204,
         "Hermann",
         10000,
         29,
         "Finance"
        ],
        [
         205,
         "Shelley",
         12008,
         33,
         "Finance"
        ],
        [
         206,
         "William",
         8300,
         37,
         "IT"
        ],
        [
         100,
         "Steven",
         24000,
         39,
         "IT"
        ],
        [
         101,
         "Neena",
         17000,
         27,
         "Sales"
        ],
        [
         102,
         "Lex",
         17000,
         37,
         "Marketing"
        ],
        [
         103,
         "Alexander",
         9000,
         39,
         "Marketing"
        ],
        [
         104,
         "Bruce",
         6000,
         38,
         "IT"
        ],
        [
         105,
         "David",
         4800,
         39,
         "IT"
        ],
        [
         106,
         "Valli",
         4800,
         38,
         "Sales"
        ],
        [
         107,
         "Diana",
         4200,
         35,
         "Sales"
        ],
        [
         108,
         "Nancy",
         12008,
         28,
         "Sales"
        ],
        [
         109,
         "Daniel",
         9000,
         35,
         "HR"
        ],
        [
         110,
         "John",
         8200,
         31,
         "Marketing"
        ],
        [
         111,
         "Ismael",
         7700,
         32,
         "IT"
        ],
        [
         112,
         "Jose Manuel",
         7800,
         34,
         "HR"
        ],
        [
         113,
         "Luis",
         6900,
         34,
         "Sales"
        ],
        [
         114,
         "Den",
         11000,
         27,
         "Finance"
        ],
        [
         115,
         "Alexander",
         3100,
         29,
         "Finance"
        ],
        [
         116,
         "Shelli",
         2900,
         37,
         "Finance"
        ],
        [
         117,
         "Sigal",
         2800,
         33,
         "Sales"
        ],
        [
         118,
         "Guy",
         2600,
         36,
         "HR"
        ],
        [
         119,
         "Karen",
         2500,
         32,
         "Finance"
        ],
        [
         120,
         "Matthew",
         8000,
         30,
         "HR"
        ],
        [
         121,
         "Adam",
         8200,
         39,
         "HR"
        ],
        [
         122,
         "Payam",
         7900,
         36,
         "Finance"
        ],
        [
         123,
         "Shanta",
         6500,
         35,
         "Sales"
        ],
        [
         124,
         "Kevin",
         5800,
         33,
         "Marketing"
        ],
        [
         125,
         "Julia",
         3200,
         35,
         "Finance"
        ],
        [
         126,
         "Irene",
         2700,
         28,
         "HR"
        ],
        [
         127,
         "James",
         2400,
         31,
         "HR"
        ],
        [
         128,
         "Steven",
         2200,
         33,
         "Finance"
        ],
        [
         129,
         "Laura",
         3300,
         38,
         "IT"
        ],
        [
         130,
         "Mozhe",
         2800,
         28,
         "Marketing"
        ],
        [
         131,
         "James",
         2500,
         36,
         "Sales"
        ],
        [
         132,
         "TJ",
         2100,
         34,
         "IT"
        ],
        [
         133,
         "Jason",
         3300,
         38,
         "Sales"
        ],
        [
         134,
         "Michael",
         2900,
         29,
         "Sales"
        ],
        [
         135,
         "Ki",
         2400,
         35,
         "Marketing"
        ],
        [
         136,
         "Hazel",
         2200,
         29,
         "IT"
        ],
        [
         137,
         "Renske",
         3600,
         26,
         "Marketing"
        ],
        [
         138,
         "Stephen",
         3200,
         35,
         "Sales"
        ],
        [
         139,
         "John",
         2700,
         36,
         "Sales"
        ],
        [
         140,
         "Joshua",
         2500,
         29,
         "Finance"
        ]
       ],
       "datasetInfos": [],
       "dbfsResultPath": null,
       "isJsonSchema": true,
       "metadata": {},
       "overflow": false,
       "plotOptions": {
        "customPlotOptions": {},
        "displayType": "table",
        "pivotAggregation": null,
        "pivotColumns": null,
        "xColumns": null,
        "yColumns": null
       },
       "removedWidgets": [],
       "schema": [
        {
         "metadata": "{}",
         "name": "Emp_No",
         "type": "\"integer\""
        },
        {
         "metadata": "{}",
         "name": "Emp_Name",
         "type": "\"string\""
        },
        {
         "metadata": "{}",
         "name": "Salary",
         "type": "\"integer\""
        },
        {
         "metadata": "{}",
         "name": "Age",
         "type": "\"integer\""
        },
        {
         "metadata": "{}",
         "name": "Department",
         "type": "\"string\""
        }
       ],
       "type": "table"
      }
     },
     "output_type": "display_data"
    }
   ],
   "source": [
    "%sql\n",
    "\n",
    "/* Query the created temp table in a SQL cell */\n",
    "\n",
    "select * from `employees_data_analysis`"
   ]
  },
  {
   "cell_type": "code",
   "execution_count": 0,
   "metadata": {
    "application/vnd.databricks.v1+cell": {
     "cellMetadata": {
      "byteLimit": 2048000,
      "rowLimit": 10000
     },
     "inputWidgets": {},
     "nuid": "db9631f6-bb4a-42ca-8a3c-0d48af932331",
     "showTitle": false,
     "title": ""
    }
   },
   "outputs": [
    {
     "output_type": "stream",
     "name": "stdout",
     "output_type": "stream",
     "text": [
      "root\n |-- Emp_No: integer (nullable = true)\n |-- Emp_Name: string (nullable = true)\n |-- Salary: integer (nullable = true)\n |-- Age: integer (nullable = true)\n |-- Department: string (nullable = true)\n\n"
     ]
    }
   ],
   "source": [
    "df.printSchema()"
   ]
  },
  {
   "cell_type": "markdown",
   "metadata": {
    "application/vnd.databricks.v1+cell": {
     "cellMetadata": {
      "byteLimit": 2048000,
      "rowLimit": 10000
     },
     "inputWidgets": {},
     "nuid": "dfecf35a-7221-4164-978a-54da7ca43f30",
     "showTitle": false,
     "title": ""
    }
   },
   "source": [
    "#####SQL query to fetch solely the records from the View where the age exceeds 30"
   ]
  },
  {
   "cell_type": "code",
   "execution_count": 0,
   "metadata": {
    "application/vnd.databricks.v1+cell": {
     "cellMetadata": {
      "byteLimit": 2048000,
      "implicitDf": true,
      "rowLimit": 10000
     },
     "inputWidgets": {},
     "nuid": "a96c0f67-29dd-4c27-87a4-713251f31ee9",
     "showTitle": false,
     "title": ""
    }
   },
   "outputs": [
    {
     "output_type": "display_data",
     "data": {
      "text/html": [
       "<style scoped>\n",
       "  .table-result-container {\n",
       "    max-height: 300px;\n",
       "    overflow: auto;\n",
       "  }\n",
       "  table, th, td {\n",
       "    border: 1px solid black;\n",
       "    border-collapse: collapse;\n",
       "  }\n",
       "  th, td {\n",
       "    padding: 5px;\n",
       "  }\n",
       "  th {\n",
       "    text-align: left;\n",
       "  }\n",
       "</style><div class='table-result-container'><table class='table-result'><thead style='background-color: white'><tr><th>Emp_No</th><th>Emp_Name</th><th>Salary</th><th>Age</th><th>Department</th></tr></thead><tbody><tr><td>199</td><td>Douglas</td><td>2600</td><td>34</td><td>Sales</td></tr><tr><td>200</td><td>Jennifer</td><td>4400</td><td>36</td><td>Marketing</td></tr><tr><td>201</td><td>Michael</td><td>13000</td><td>32</td><td>IT</td></tr><tr><td>202</td><td>Pat</td><td>6000</td><td>39</td><td>HR</td></tr><tr><td>203</td><td>Susan</td><td>6500</td><td>36</td><td>Marketing</td></tr><tr><td>205</td><td>Shelley</td><td>12008</td><td>33</td><td>Finance</td></tr><tr><td>206</td><td>William</td><td>8300</td><td>37</td><td>IT</td></tr><tr><td>100</td><td>Steven</td><td>24000</td><td>39</td><td>IT</td></tr><tr><td>102</td><td>Lex</td><td>17000</td><td>37</td><td>Marketing</td></tr><tr><td>103</td><td>Alexander</td><td>9000</td><td>39</td><td>Marketing</td></tr><tr><td>104</td><td>Bruce</td><td>6000</td><td>38</td><td>IT</td></tr><tr><td>105</td><td>David</td><td>4800</td><td>39</td><td>IT</td></tr><tr><td>106</td><td>Valli</td><td>4800</td><td>38</td><td>Sales</td></tr><tr><td>107</td><td>Diana</td><td>4200</td><td>35</td><td>Sales</td></tr><tr><td>109</td><td>Daniel</td><td>9000</td><td>35</td><td>HR</td></tr><tr><td>110</td><td>John</td><td>8200</td><td>31</td><td>Marketing</td></tr><tr><td>111</td><td>Ismael</td><td>7700</td><td>32</td><td>IT</td></tr><tr><td>112</td><td>Jose Manuel</td><td>7800</td><td>34</td><td>HR</td></tr><tr><td>113</td><td>Luis</td><td>6900</td><td>34</td><td>Sales</td></tr><tr><td>116</td><td>Shelli</td><td>2900</td><td>37</td><td>Finance</td></tr><tr><td>117</td><td>Sigal</td><td>2800</td><td>33</td><td>Sales</td></tr><tr><td>118</td><td>Guy</td><td>2600</td><td>36</td><td>HR</td></tr><tr><td>119</td><td>Karen</td><td>2500</td><td>32</td><td>Finance</td></tr><tr><td>121</td><td>Adam</td><td>8200</td><td>39</td><td>HR</td></tr><tr><td>122</td><td>Payam</td><td>7900</td><td>36</td><td>Finance</td></tr><tr><td>123</td><td>Shanta</td><td>6500</td><td>35</td><td>Sales</td></tr><tr><td>124</td><td>Kevin</td><td>5800</td><td>33</td><td>Marketing</td></tr><tr><td>125</td><td>Julia</td><td>3200</td><td>35</td><td>Finance</td></tr><tr><td>127</td><td>James</td><td>2400</td><td>31</td><td>HR</td></tr><tr><td>128</td><td>Steven</td><td>2200</td><td>33</td><td>Finance</td></tr><tr><td>129</td><td>Laura</td><td>3300</td><td>38</td><td>IT</td></tr><tr><td>131</td><td>James</td><td>2500</td><td>36</td><td>Sales</td></tr><tr><td>132</td><td>TJ</td><td>2100</td><td>34</td><td>IT</td></tr><tr><td>133</td><td>Jason</td><td>3300</td><td>38</td><td>Sales</td></tr><tr><td>135</td><td>Ki</td><td>2400</td><td>35</td><td>Marketing</td></tr><tr><td>138</td><td>Stephen</td><td>3200</td><td>35</td><td>Sales</td></tr><tr><td>139</td><td>John</td><td>2700</td><td>36</td><td>Sales</td></tr></tbody></table></div>"
      ]
     },
     "metadata": {
      "application/vnd.databricks.v1+output": {
       "addedWidgets": {},
       "aggData": [],
       "aggError": "",
       "aggOverflow": false,
       "aggSchema": [],
       "aggSeriesLimitReached": false,
       "aggType": "",
       "arguments": {},
       "columnCustomDisplayInfos": {},
       "data": [
        [
         199,
         "Douglas",
         2600,
         34,
         "Sales"
        ],
        [
         200,
         "Jennifer",
         4400,
         36,
         "Marketing"
        ],
        [
         201,
         "Michael",
         13000,
         32,
         "IT"
        ],
        [
         202,
         "Pat",
         6000,
         39,
         "HR"
        ],
        [
         203,
         "Susan",
         6500,
         36,
         "Marketing"
        ],
        [
         205,
         "Shelley",
         12008,
         33,
         "Finance"
        ],
        [
         206,
         "William",
         8300,
         37,
         "IT"
        ],
        [
         100,
         "Steven",
         24000,
         39,
         "IT"
        ],
        [
         102,
         "Lex",
         17000,
         37,
         "Marketing"
        ],
        [
         103,
         "Alexander",
         9000,
         39,
         "Marketing"
        ],
        [
         104,
         "Bruce",
         6000,
         38,
         "IT"
        ],
        [
         105,
         "David",
         4800,
         39,
         "IT"
        ],
        [
         106,
         "Valli",
         4800,
         38,
         "Sales"
        ],
        [
         107,
         "Diana",
         4200,
         35,
         "Sales"
        ],
        [
         109,
         "Daniel",
         9000,
         35,
         "HR"
        ],
        [
         110,
         "John",
         8200,
         31,
         "Marketing"
        ],
        [
         111,
         "Ismael",
         7700,
         32,
         "IT"
        ],
        [
         112,
         "Jose Manuel",
         7800,
         34,
         "HR"
        ],
        [
         113,
         "Luis",
         6900,
         34,
         "Sales"
        ],
        [
         116,
         "Shelli",
         2900,
         37,
         "Finance"
        ],
        [
         117,
         "Sigal",
         2800,
         33,
         "Sales"
        ],
        [
         118,
         "Guy",
         2600,
         36,
         "HR"
        ],
        [
         119,
         "Karen",
         2500,
         32,
         "Finance"
        ],
        [
         121,
         "Adam",
         8200,
         39,
         "HR"
        ],
        [
         122,
         "Payam",
         7900,
         36,
         "Finance"
        ],
        [
         123,
         "Shanta",
         6500,
         35,
         "Sales"
        ],
        [
         124,
         "Kevin",
         5800,
         33,
         "Marketing"
        ],
        [
         125,
         "Julia",
         3200,
         35,
         "Finance"
        ],
        [
         127,
         "James",
         2400,
         31,
         "HR"
        ],
        [
         128,
         "Steven",
         2200,
         33,
         "Finance"
        ],
        [
         129,
         "Laura",
         3300,
         38,
         "IT"
        ],
        [
         131,
         "James",
         2500,
         36,
         "Sales"
        ],
        [
         132,
         "TJ",
         2100,
         34,
         "IT"
        ],
        [
         133,
         "Jason",
         3300,
         38,
         "Sales"
        ],
        [
         135,
         "Ki",
         2400,
         35,
         "Marketing"
        ],
        [
         138,
         "Stephen",
         3200,
         35,
         "Sales"
        ],
        [
         139,
         "John",
         2700,
         36,
         "Sales"
        ]
       ],
       "datasetInfos": [],
       "dbfsResultPath": null,
       "isJsonSchema": true,
       "metadata": {},
       "overflow": false,
       "plotOptions": {
        "customPlotOptions": {},
        "displayType": "table",
        "pivotAggregation": null,
        "pivotColumns": null,
        "xColumns": null,
        "yColumns": null
       },
       "removedWidgets": [],
       "schema": [
        {
         "metadata": "{}",
         "name": "Emp_No",
         "type": "\"integer\""
        },
        {
         "metadata": "{}",
         "name": "Emp_Name",
         "type": "\"string\""
        },
        {
         "metadata": "{}",
         "name": "Salary",
         "type": "\"integer\""
        },
        {
         "metadata": "{}",
         "name": "Age",
         "type": "\"integer\""
        },
        {
         "metadata": "{}",
         "name": "Department",
         "type": "\"string\""
        }
       ],
       "type": "table"
      }
     },
     "output_type": "display_data"
    }
   ],
   "source": [
    "%sql\n",
    "\n",
    "/* SQL query to fetch solely the records from the View where the age exceeds 30 */\n",
    "\n",
    "select * from `employees_data_analysis` where Age > 30"
   ]
  },
  {
   "cell_type": "markdown",
   "metadata": {
    "application/vnd.databricks.v1+cell": {
     "cellMetadata": {
      "byteLimit": 2048000,
      "rowLimit": 10000
     },
     "inputWidgets": {},
     "nuid": "88b55ae5-a678-4861-b2fd-b6a88fd98a33",
     "showTitle": false,
     "title": ""
    }
   },
   "source": [
    "######SQL query to calculate the average salary of employees grouped by department"
   ]
  },
  {
   "cell_type": "code",
   "execution_count": 0,
   "metadata": {
    "application/vnd.databricks.v1+cell": {
     "cellMetadata": {
      "byteLimit": 2048000,
      "implicitDf": true,
      "rowLimit": 10000
     },
     "inputWidgets": {},
     "nuid": "86229565-e95b-4ac3-9578-45976d8af1cf",
     "showTitle": false,
     "title": ""
    }
   },
   "outputs": [
    {
     "output_type": "display_data",
     "data": {
      "text/html": [
       "<style scoped>\n",
       "  .table-result-container {\n",
       "    max-height: 300px;\n",
       "    overflow: auto;\n",
       "  }\n",
       "  table, th, td {\n",
       "    border: 1px solid black;\n",
       "    border-collapse: collapse;\n",
       "  }\n",
       "  th, td {\n",
       "    padding: 5px;\n",
       "  }\n",
       "  th {\n",
       "    text-align: left;\n",
       "  }\n",
       "</style><div class='table-result-container'><table class='table-result'><thead style='background-color: white'><tr><th>Department</th><th>Avg_Salary</th></tr></thead><tbody><tr><td>Sales</td><td>5492.923076923077</td></tr><tr><td>HR</td><td>5837.5</td></tr><tr><td>Finance</td><td>5730.8</td></tr><tr><td>Marketing</td><td>6633.333333333333</td></tr><tr><td>IT</td><td>7400.0</td></tr></tbody></table></div>"
      ]
     },
     "metadata": {
      "application/vnd.databricks.v1+output": {
       "addedWidgets": {},
       "aggData": [],
       "aggError": "",
       "aggOverflow": false,
       "aggSchema": [],
       "aggSeriesLimitReached": false,
       "aggType": "",
       "arguments": {},
       "columnCustomDisplayInfos": {},
       "data": [
        [
         "Sales",
         5492.923076923077
        ],
        [
         "HR",
         5837.5
        ],
        [
         "Finance",
         5730.8
        ],
        [
         "Marketing",
         6633.333333333333
        ],
        [
         "IT",
         7400.0
        ]
       ],
       "datasetInfos": [],
       "dbfsResultPath": null,
       "isJsonSchema": true,
       "metadata": {},
       "overflow": false,
       "plotOptions": {
        "customPlotOptions": {},
        "displayType": "table",
        "pivotAggregation": null,
        "pivotColumns": null,
        "xColumns": null,
        "yColumns": null
       },
       "removedWidgets": [],
       "schema": [
        {
         "metadata": "{}",
         "name": "Department",
         "type": "\"string\""
        },
        {
         "metadata": "{}",
         "name": "Avg_Salary",
         "type": "\"double\""
        }
       ],
       "type": "table"
      }
     },
     "output_type": "display_data"
    }
   ],
   "source": [
    "%sql\n",
    "/* SQL query to calculate the average salary of employees grouped by department */\n",
    "\n",
    "select Department, AVG(Salary) as Avg_Salary from `employees_data_analysis` group by Department"
   ]
  },
  {
   "cell_type": "markdown",
   "metadata": {
    "application/vnd.databricks.v1+cell": {
     "cellMetadata": {
      "byteLimit": 2048000,
      "rowLimit": 10000
     },
     "inputWidgets": {},
     "nuid": "c925abb4-b83b-46c1-a0a2-39d281c2070e",
     "showTitle": false,
     "title": ""
    }
   },
   "source": [
    "######Apply filter() on the Dataframe"
   ]
  },
  {
   "cell_type": "code",
   "execution_count": 0,
   "metadata": {
    "application/vnd.databricks.v1+cell": {
     "cellMetadata": {
      "byteLimit": 2048000,
      "rowLimit": 10000
     },
     "inputWidgets": {},
     "nuid": "25edd2ec-2383-4f17-a131-827670275e85",
     "showTitle": false,
     "title": ""
    }
   },
   "outputs": [
    {
     "output_type": "stream",
     "name": "stdout",
     "output_type": "stream",
     "text": [
      "+------+--------+------+---+----------+\n|Emp_No|Emp_Name|Salary|Age|Department|\n+------+--------+------+---+----------+\n|   198|  Donald|  2600| 29|        IT|\n|   201| Michael| 13000| 32|        IT|\n|   206| William|  8300| 37|        IT|\n|   100|  Steven| 24000| 39|        IT|\n|   104|   Bruce|  6000| 38|        IT|\n|   105|   David|  4800| 39|        IT|\n|   111|  Ismael|  7700| 32|        IT|\n|   129|   Laura|  3300| 38|        IT|\n|   132|      TJ|  2100| 34|        IT|\n|   136|   Hazel|  2200| 29|        IT|\n+------+--------+------+---+----------+\n\n"
     ]
    }
   ],
   "source": [
    "# Apply a filter to select records where the department is 'IT'\n",
    "\n",
    "df.filter(df.Department=='IT').show()"
   ]
  },
  {
   "cell_type": "markdown",
   "metadata": {
    "application/vnd.databricks.v1+cell": {
     "cellMetadata": {
      "byteLimit": 2048000,
      "rowLimit": 10000
     },
     "inputWidgets": {},
     "nuid": "0514ac6e-89ad-4a24-933e-0543ccf6279b",
     "showTitle": false,
     "title": ""
    }
   },
   "source": [
    "######Add 10% Bonus to Salaries"
   ]
  },
  {
   "cell_type": "code",
   "execution_count": 0,
   "metadata": {
    "application/vnd.databricks.v1+cell": {
     "cellMetadata": {
      "byteLimit": 2048000,
      "rowLimit": 10000
     },
     "inputWidgets": {},
     "nuid": "25b28bba-49b8-40cf-8eb7-78c8c59f9ddc",
     "showTitle": false,
     "title": ""
    }
   },
   "outputs": [
    {
     "output_type": "stream",
     "name": "stdout",
     "output_type": "stream",
     "text": [
      "+------+---------+------+---+----------+------------+\n|Emp_No| Emp_Name|Salary|Age|Department|Bonus_Salary|\n+------+---------+------+---+----------+------------+\n|   198|   Donald|  2600| 29|        IT|      2860.0|\n|   199|  Douglas|  2600| 34|     Sales|      2860.0|\n|   200| Jennifer|  4400| 36| Marketing|      4840.0|\n|   201|  Michael| 13000| 32|        IT|     14300.0|\n|   202|      Pat|  6000| 39|        HR|      6600.0|\n|   203|    Susan|  6500| 36| Marketing|      7150.0|\n|   204|  Hermann| 10000| 29|   Finance|     11000.0|\n|   205|  Shelley| 12008| 33|   Finance|     13208.8|\n|   206|  William|  8300| 37|        IT|      9130.0|\n|   100|   Steven| 24000| 39|        IT|     26400.0|\n|   101|    Neena| 17000| 27|     Sales|     18700.0|\n|   102|      Lex| 17000| 37| Marketing|     18700.0|\n|   103|Alexander|  9000| 39| Marketing|      9900.0|\n|   104|    Bruce|  6000| 38|        IT|      6600.0|\n|   105|    David|  4800| 39|        IT|      5280.0|\n|   106|    Valli|  4800| 38|     Sales|      5280.0|\n|   107|    Diana|  4200| 35|     Sales|      4620.0|\n|   108|    Nancy| 12008| 28|     Sales|     13208.8|\n|   109|   Daniel|  9000| 35|        HR|      9900.0|\n|   110|     John|  8200| 31| Marketing|      9020.0|\n+------+---------+------+---+----------+------------+\nonly showing top 20 rows\n\n"
     ]
    }
   ],
   "source": [
    "%python\n",
    "# /* Add a new column Bonus_Salary */\n",
    "from pyspark.sql.functions import col\n",
    "df.withColumn('Bonus_Salary',col('Salary')+(col('Salary')*0.10)).show()\n"
   ]
  },
  {
   "cell_type": "markdown",
   "metadata": {
    "application/vnd.databricks.v1+cell": {
     "cellMetadata": {
      "byteLimit": 2048000,
      "rowLimit": 10000
     },
     "inputWidgets": {},
     "nuid": "72df9f2a-5869-4ae1-b4a7-684b88f319c4",
     "showTitle": false,
     "title": ""
    }
   },
   "source": [
    "######Find Maximum Salary by Age"
   ]
  },
  {
   "cell_type": "code",
   "execution_count": 0,
   "metadata": {
    "application/vnd.databricks.v1+cell": {
     "cellMetadata": {
      "byteLimit": 2048000,
      "rowLimit": 10000
     },
     "inputWidgets": {},
     "nuid": "14dbdc43-6bec-4d10-aca1-8f73393507df",
     "showTitle": false,
     "title": ""
    }
   },
   "outputs": [
    {
     "output_type": "stream",
     "name": "stdout",
     "output_type": "stream",
     "text": [
      "+---+----------+\n|Age|Max_Salary|\n+---+----------+\n| 31|      8200|\n| 34|      7800|\n| 28|     12008|\n| 27|     17000|\n| 26|      3600|\n+---+----------+\nonly showing top 5 rows\n\n"
     ]
    }
   ],
   "source": [
    "from pyspark.sql.functions import max\n",
    "df.groupBy('Age').agg(max(col('Salary')).alias('Max_Salary')).show(5)"
   ]
  },
  {
   "cell_type": "markdown",
   "metadata": {
    "application/vnd.databricks.v1+cell": {
     "cellMetadata": {
      "byteLimit": 2048000,
      "rowLimit": 10000
     },
     "inputWidgets": {},
     "nuid": "4fb3abfb-c8d4-4efa-8488-0f0816d085a5",
     "showTitle": false,
     "title": ""
    }
   },
   "source": [
    "######Self Join employees_data_analysis table with the Data frame"
   ]
  },
  {
   "cell_type": "code",
   "execution_count": 0,
   "metadata": {
    "application/vnd.databricks.v1+cell": {
     "cellMetadata": {
      "byteLimit": 2048000,
      "rowLimit": 10000
     },
     "inputWidgets": {},
     "nuid": "96cd4051-debf-42c0-bb52-66730f7fb737",
     "showTitle": false,
     "title": ""
    }
   },
   "outputs": [
    {
     "output_type": "stream",
     "name": "stdout",
     "output_type": "stream",
     "text": [
      "+------+---------+------+---+----------+---------+------+---+----------+\n|Emp_No| Emp_Name|Salary|Age|Department| Emp_Name|Salary|Age|Department|\n+------+---------+------+---+----------+---------+------+---+----------+\n|   198|   Donald|  2600| 29|        IT|   Donald|  2600| 29|        IT|\n|   199|  Douglas|  2600| 34|     Sales|  Douglas|  2600| 34|     Sales|\n|   200| Jennifer|  4400| 36| Marketing| Jennifer|  4400| 36| Marketing|\n|   201|  Michael| 13000| 32|        IT|  Michael| 13000| 32|        IT|\n|   202|      Pat|  6000| 39|        HR|      Pat|  6000| 39|        HR|\n|   203|    Susan|  6500| 36| Marketing|    Susan|  6500| 36| Marketing|\n|   204|  Hermann| 10000| 29|   Finance|  Hermann| 10000| 29|   Finance|\n|   205|  Shelley| 12008| 33|   Finance|  Shelley| 12008| 33|   Finance|\n|   206|  William|  8300| 37|        IT|  William|  8300| 37|        IT|\n|   100|   Steven| 24000| 39|        IT|   Steven| 24000| 39|        IT|\n|   101|    Neena| 17000| 27|     Sales|    Neena| 17000| 27|     Sales|\n|   102|      Lex| 17000| 37| Marketing|      Lex| 17000| 37| Marketing|\n|   103|Alexander|  9000| 39| Marketing|Alexander|  9000| 39| Marketing|\n|   104|    Bruce|  6000| 38|        IT|    Bruce|  6000| 38|        IT|\n|   105|    David|  4800| 39|        IT|    David|  4800| 39|        IT|\n|   106|    Valli|  4800| 38|     Sales|    Valli|  4800| 38|     Sales|\n|   107|    Diana|  4200| 35|     Sales|    Diana|  4200| 35|     Sales|\n|   108|    Nancy| 12008| 28|     Sales|    Nancy| 12008| 28|     Sales|\n|   109|   Daniel|  9000| 35|        HR|   Daniel|  9000| 35|        HR|\n|   110|     John|  8200| 31| Marketing|     John|  8200| 31| Marketing|\n+------+---------+------+---+----------+---------+------+---+----------+\nonly showing top 20 rows\n\n"
     ]
    }
   ],
   "source": [
    "df.join(df, on='Emp_No').show()"
   ]
  },
  {
   "cell_type": "markdown",
   "metadata": {
    "application/vnd.databricks.v1+cell": {
     "cellMetadata": {},
     "inputWidgets": {},
     "nuid": "941bc388-3de0-4d19-952e-8e282e256567",
     "showTitle": false,
     "title": ""
    }
   },
   "source": [
    "######Calculate Average Employee Age"
   ]
  },
  {
   "cell_type": "code",
   "execution_count": 0,
   "metadata": {
    "application/vnd.databricks.v1+cell": {
     "cellMetadata": {
      "byteLimit": 2048000,
      "rowLimit": 10000
     },
     "inputWidgets": {},
     "nuid": "57b07bdf-8186-4210-990e-2096ce1eb63f",
     "showTitle": false,
     "title": ""
    }
   },
   "outputs": [
    {
     "output_type": "stream",
     "name": "stdout",
     "output_type": "stream",
     "text": [
      "+-------+\n|Avg_Age|\n+-------+\n|  33.56|\n+-------+\n\n"
     ]
    }
   ],
   "source": [
    "# Calculate the average age of employees\n",
    "from pyspark.sql.functions import avg\n",
    "df.agg(avg(col('Age')).alias('Avg_Age')).show()"
   ]
  },
  {
   "cell_type": "markdown",
   "metadata": {
    "application/vnd.databricks.v1+cell": {
     "cellMetadata": {},
     "inputWidgets": {},
     "nuid": "772c05b0-2872-425a-9043-5ba1011304df",
     "showTitle": false,
     "title": ""
    }
   },
   "source": [
    "######Calculate Total Salary by Department"
   ]
  },
  {
   "cell_type": "code",
   "execution_count": 0,
   "metadata": {
    "application/vnd.databricks.v1+cell": {
     "cellMetadata": {
      "byteLimit": 2048000,
      "rowLimit": 10000
     },
     "inputWidgets": {},
     "nuid": "7b576bf3-22c8-4ff8-a572-fbdda828ed94",
     "showTitle": false,
     "title": ""
    }
   },
   "outputs": [
    {
     "output_type": "stream",
     "name": "stdout",
     "output_type": "stream",
     "text": [
      "+----------+------------+\n|Department|Total_Salary|\n+----------+------------+\n|     Sales|       71408|\n|        HR|       46700|\n|   Finance|       57308|\n| Marketing|       59700|\n|        IT|       74000|\n+----------+------------+\n\n"
     ]
    }
   ],
   "source": [
    "# Calculate Total Salary by Department\n",
    "from pyspark.sql.functions import sum\n",
    "df.groupBy('Department').agg(sum(col('Salary')).alias('Total_Salary')).show()"
   ]
  },
  {
   "cell_type": "markdown",
   "metadata": {
    "application/vnd.databricks.v1+cell": {
     "cellMetadata": {},
     "inputWidgets": {},
     "nuid": "f8ad52b4-412f-496c-8f43-1fa30ffbf9cb",
     "showTitle": false,
     "title": ""
    }
   },
   "source": [
    "######Sort Data by Age and Salary"
   ]
  },
  {
   "cell_type": "code",
   "execution_count": 0,
   "metadata": {
    "application/vnd.databricks.v1+cell": {
     "cellMetadata": {
      "byteLimit": 2048000,
      "rowLimit": 10000
     },
     "inputWidgets": {},
     "nuid": "21194554-47b5-4fa5-8fe2-b61da3538aaa",
     "showTitle": false,
     "title": ""
    }
   },
   "outputs": [
    {
     "output_type": "stream",
     "name": "stdout",
     "output_type": "stream",
     "text": [
      "+------+-----------+------+---+----------+\n|Emp_No|   Emp_Name|Salary|Age|Department|\n+------+-----------+------+---+----------+\n|   100|     Steven| 24000| 39|        IT|\n|   101|      Neena| 17000| 27|     Sales|\n|   102|        Lex| 17000| 37| Marketing|\n|   201|    Michael| 13000| 32|        IT|\n|   205|    Shelley| 12008| 33|   Finance|\n|   108|      Nancy| 12008| 28|     Sales|\n|   114|        Den| 11000| 27|   Finance|\n|   204|    Hermann| 10000| 29|   Finance|\n|   103|  Alexander|  9000| 39| Marketing|\n|   109|     Daniel|  9000| 35|        HR|\n|   206|    William|  8300| 37|        IT|\n|   110|       John|  8200| 31| Marketing|\n|   121|       Adam|  8200| 39|        HR|\n|   120|    Matthew|  8000| 30|        HR|\n|   122|      Payam|  7900| 36|   Finance|\n|   112|Jose Manuel|  7800| 34|        HR|\n|   111|     Ismael|  7700| 32|        IT|\n|   113|       Luis|  6900| 34|     Sales|\n|   203|      Susan|  6500| 36| Marketing|\n|   123|     Shanta|  6500| 35|     Sales|\n+------+-----------+------+---+----------+\nonly showing top 20 rows\n\n"
     ]
    }
   ],
   "source": [
    "# Sort Data by Age and Salary\n",
    "df.sort('Age', ascending=True).sort('Salary', ascending=False).show()"
   ]
  },
  {
   "cell_type": "markdown",
   "metadata": {
    "application/vnd.databricks.v1+cell": {
     "cellMetadata": {},
     "inputWidgets": {},
     "nuid": "f6fa36cd-d88f-4d82-8430-a26dae23dbc6",
     "showTitle": false,
     "title": ""
    }
   },
   "source": [
    "######Count Employees in Each Department"
   ]
  },
  {
   "cell_type": "code",
   "execution_count": 0,
   "metadata": {
    "application/vnd.databricks.v1+cell": {
     "cellMetadata": {
      "byteLimit": 2048000,
      "rowLimit": 10000
     },
     "inputWidgets": {},
     "nuid": "cfd67898-9187-4772-a333-29841f2770f2",
     "showTitle": false,
     "title": ""
    }
   },
   "outputs": [
    {
     "output_type": "stream",
     "name": "stdout",
     "output_type": "stream",
     "text": [
      "+----------+---------------+\n|Department|Total_Employees|\n+----------+---------------+\n|     Sales|             13|\n|        HR|              8|\n|   Finance|             10|\n| Marketing|              9|\n|        IT|             10|\n+----------+---------------+\n\n"
     ]
    }
   ],
   "source": [
    "# Count Employees in Each Department\n",
    "from pyspark.sql.functions import count\n",
    "df.groupBy('Department').agg(count(col('Emp_No')).alias('Total_Employees')).show()"
   ]
  },
  {
   "cell_type": "markdown",
   "metadata": {
    "application/vnd.databricks.v1+cell": {
     "cellMetadata": {},
     "inputWidgets": {},
     "nuid": "7ef8d344-781f-400c-bb53-a2964c113fd3",
     "showTitle": false,
     "title": ""
    }
   },
   "source": [
    "######Filter Employees with the letter A in the Name"
   ]
  },
  {
   "cell_type": "code",
   "execution_count": 0,
   "metadata": {
    "application/vnd.databricks.v1+cell": {
     "cellMetadata": {
      "byteLimit": 2048000,
      "rowLimit": 10000
     },
     "inputWidgets": {},
     "nuid": "3efd88c6-1c25-45d0-9f13-52ed675292b8",
     "showTitle": false,
     "title": ""
    }
   },
   "outputs": [
    {
     "output_type": "stream",
     "name": "stdout",
     "output_type": "stream",
     "text": [
      "+------+---------+------+---+----------+\n|Emp_No| Emp_Name|Salary|Age|Department|\n+------+---------+------+---+----------+\n|   103|Alexander|  9000| 39| Marketing|\n|   115|Alexander|  3100| 29|   Finance|\n|   121|     Adam|  8200| 39|        HR|\n+------+---------+------+---+----------+\n\n"
     ]
    }
   ],
   "source": [
    "# Filter Employees with the letter o in the Name\n",
    "df.filter(col('Emp_Name').contains('A')).show()"
   ]
  }
 ],
 "metadata": {
  "application/vnd.databricks.v1+notebook": {
   "dashboards": [],
   "language": "python",
   "notebookMetadata": {
    "mostRecentlyExecutedCommandWithImplicitDF": {
     "commandId": 2936895526795842,
     "dataframes": [
      "_sqldf"
     ]
    },
    "pythonIndentUnit": 4
   },
   "notebookName": "Employee_Data_Analysis-PySpark-DBFS",
   "widgets": {}
  }
 },
 "nbformat": 4,
 "nbformat_minor": 0
}
